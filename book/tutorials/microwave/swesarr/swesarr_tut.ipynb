{
 "cells": [
  {
   "cell_type": "markdown",
   "id": "8a25d887-2e9a-44ea-b92f-9c16f65c0e1b",
   "metadata": {},
   "source": [
    "![NASA](http://www.nasa.gov/sites/all/themes/custom/nasatwo/images/nasa-logo.svg)\n",
    "\n",
    "<div>\n",
    "<img src=\"https://blogs.nasa.gov/swesarr/wp-content/uploads/sites/305/2021/06/swesarr.png\" width=\"1589\"/>\n",
    "</div>\n",
    "\n",
    "\n",
    "<center>\n",
    "<h1><font size=\"+3\">SWESARR Tutorial</font></h1>\n",
    "</center>\n",
    "\n",
    "---\n",
    "\n",
    "<CENTER>\n",
    "<H1 style=\"color:red\">\n",
    "Introduction\n",
    "</H1>\n",
    "</CENTER>"
   ]
  }
 ],
 "metadata": {
  "kernelspec": {
   "display_name": "Python 3 (ipykernel)",
   "language": "python",
   "name": "python3"
  },
  "language_info": {
   "codemirror_mode": {
    "name": "ipython",
    "version": 3
   },
   "file_extension": ".py",
   "mimetype": "text/x-python",
   "name": "python",
   "nbconvert_exporter": "python",
   "pygments_lexer": "ipython3",
   "version": "3.8.8"
  }
 },
 "nbformat": 4,
 "nbformat_minor": 5
}
